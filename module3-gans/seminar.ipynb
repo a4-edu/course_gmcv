{
 "cells": [
  {
   "cell_type": "markdown",
   "metadata": {
    "id": "badEjao5zR1o"
   },
   "source": [
    "# GANs\n",
    "\n",
    "This assignment consists of 3 parts:\n",
    "1. 1D data (5 points)\n",
    "2. Non-saturating GAN on MNIST (5 points)\n",
    "3. pixtopix on facades dataset (10 points)\n",
    "\n",
    "Each task is accompanied with some amount of code to allow you to concentrate on the most interesting parts of the assignment. You are free to modify any code in the solution section if you think it will make it more convenient. However you should not modify data acquisition and result sections."
   ]
  },
  {
   "cell_type": "code",
   "execution_count": null,
   "metadata": {
    "id": "maU5VOGeNsge"
   },
   "outputs": [],
   "source": [
    "import numpy as np\n",
    "import matplotlib.pyplot as plt\n",
    "import IPython\n",
    "import torch\n",
    "import torch.nn as nn\n",
    "import torch.nn.functional as F\n",
    "import torch.utils.data as data\n",
    "import torch.optim as optim\n",
    "from scipy.stats import norm\n",
    "from tqdm import trange, tqdm_notebook\n",
    "import os.path as osp\n",
    "import warnings\n",
    "warnings.filterwarnings('ignore')"
   ]
  },
  {
   "cell_type": "markdown",
   "metadata": {
    "id": "vYa4i0uxspaA"
   },
   "source": [
    "# Part 1: Warmup (5 points)\n",
    "\n",
    "In this question, we will train simplest version of GAN on an easy 1D dataset. \n",
    "\n",
    "Execute the cell below to visualize our dataset."
   ]
  },
  {
   "cell_type": "code",
   "execution_count": null,
   "metadata": {
    "id": "N7o80wZlKFKq"
   },
   "outputs": [],
   "source": [
    "def q1_data(n=20000):\n",
    "    assert n % 2 == 0\n",
    "    gaussian1 = np.random.normal(loc=-1, scale=0.25, size=(n//2,))\n",
    "    gaussian2 = np.random.normal(loc=0.5, scale=0.5, size=(n//2,))\n",
    "    data = (np.concatenate([gaussian1, gaussian2]) + 1).reshape([-1, 1])\n",
    "    scaled_data = (data - np.min(data)) / (np.max(data) - np.min(data) + 1e-8)\n",
    "    return 2 * scaled_data -1\n",
    "\n",
    "\n",
    "def visualize_q1_dataset():\n",
    "    data = q1_data()\n",
    "    plt.hist(data, bins=50, alpha=0.7, label='train data')\n",
    "    plt.legend()\n",
    "    plt.show()"
   ]
  },
  {
   "cell_type": "code",
   "execution_count": null,
   "metadata": {
    "colab": {
     "base_uri": "https://localhost:8080/",
     "height": 430
    },
    "id": "Fb5MioT8SZzN",
    "outputId": "710cb276-5d6f-462a-c7aa-b0217a57c8c6"
   },
   "outputs": [
    {
     "data": {
      "image/png": "[encoded data removed]",
      "text/plain": [
       "<Figure size 640x480 with 1 Axes>"
      ]
     },
     "metadata": {},
     "output_type": "display_data"
    }
   ],
   "source": [
    "visualize_q1_dataset()"
   ]
  },
  {
   "cell_type": "markdown",
   "metadata": {
    "id": "WSOkSmHSL2c3"
   },
   "source": [
    "\n",
    "We'll train our generator and discriminator via the ORIGINAL minimax GAN objective:\n",
    "<insert GAN Objective here>\n",
    "$$min_{G} max_{D} \\mathbb{E}_{x \\sim p_{data}} [\\log D(x)] + \\mathbb{E}_{z \\sim p(z)}[\\log (1-D(G(z)))]$$\n",
    "\n",
    "Use an MLP for both your generator and your discriminator, and train until the generated distribution resembles the target distribution. \n",
    "\n"
   ]
  },
  {
   "cell_type": "markdown",
   "metadata": {
    "id": "rKl7kyUPwPSJ"
   },
   "source": [
    "### Solution"
   ]
  },
  {
   "cell_type": "code",
   "execution_count": null,
   "metadata": {
    "id": "eh3X-3vqMm2X"
   },
   "outputs": [],
   "source": [
    "def train(generator, critic, c_loss_fn, g_loss_fn, train_loader, g_optimizer, c_optimizer, n_critic=1, \n",
    "          g_scheduler=None, c_scheduler=None, weight_clipping=None, preparer_fn=None):\n",
    "    \"\"\"\n",
    "    generator: \n",
    "    critic: discriminator in 1ab, general model otherwise\n",
    "    c_loss_fn: takes (generator, discriminator, real_batch)\n",
    "    g_loss_fn: takes (generator, discriminator, real_batch)\n",
    "    train_loader: instance of DataLoader class\n",
    "    optimizer: \n",
    "    ncritic: how many critic gradient steps to do for every generator step\n",
    "    \"\"\"\n",
    "    g_losses, c_losses = [], []\n",
    "    generator.train()\n",
    "    critic.train()\n",
    "    for i, x in enumerate(train_loader):\n",
    "        if preparer_fn is not None:\n",
    "            x = preparer_fn(x)\n",
    "        else:\n",
    "            x = x.to(device).float()\n",
    "\n",
    "        # discriminator/critic step\n",
    "        # you should check c_loss_fn and g_loss_fn interface below\n",
    "        # YOUR CODE\n",
    "\n",
    "        if i % n_critic == 0:\n",
    "            # generator step\n",
    "            # YOUR CODE\n",
    "\n",
    "            if g_scheduler is not None:\n",
    "                g_scheduler.step()\n",
    "            if c_scheduler is not None:\n",
    "                c_scheduler.step()\n",
    "    return dict(g_losses=g_losses, c_losses=c_losses)\n",
    "\n",
    "\n",
    "def train_epochs(generator, critic, g_loss_fn, c_loss_fn, train_loader, train_args):\n",
    "    epochs, lr = train_args['epochs'], train_args['lr']\n",
    "    if 'optim_cls' in train_args:\n",
    "        g_optimizer = train_args['optim_cls'](generator.parameters(), lr=lr)\n",
    "        c_optimizer = train_args['optim_cls'](critic.parameters(), lr=lr)\n",
    "    elif 'optim_g' in train_args and 'optim_c' in train_args:\n",
    "        g_optimizer, c_optimizer = train_args['optim_g'], train_args['optim_c']\n",
    "    else:\n",
    "        g_optimizer = optim.Adam(generator.parameters(), lr=lr, betas=(0, 0.9))\n",
    "        c_optimizer = optim.Adam(critic.parameters(), lr=lr, betas=(0, 0.9))\n",
    "        \n",
    "    if train_args.get('lr_schedule', None) is not None:\n",
    "        g_scheduler = optim.lr_scheduler.LambdaLR(g_optimizer, train_args['lr_schedule'])\n",
    "        c_scheduler = optim.lr_scheduler.LambdaLR(c_optimizer, train_args['lr_schedule'])\n",
    "    else:\n",
    "        g_scheduler = None\n",
    "        c_scheduler = None \n",
    "\n",
    "    train_losses = dict()\n",
    "    for epoch in tqdm_notebook(range(epochs), desc='Epoch', leave=False):\n",
    "        generator.train()\n",
    "        critic.train()\n",
    "        train_loss = train(generator, critic, c_loss_fn, g_loss_fn, train_loader, \n",
    "                           g_optimizer, c_optimizer, n_critic=train_args.get('n_critic', 0), \n",
    "                           g_scheduler=g_scheduler, c_scheduler=c_scheduler,\n",
    "                           weight_clipping=train_args.get('weight_clipping', None),\n",
    "                           preparer_fn=train_args.get('preparer_fn', None))\n",
    "        \n",
    "        for k in train_loss.keys():\n",
    "            if k not in train_losses:\n",
    "                train_losses[k] = []\n",
    "            train_losses[k].extend(train_loss[k])\n",
    "            print(k, np.mean(train_loss[k]))\n",
    "\n",
    "    if train_args.get('q1', False):  # q1, return the snapshots\n",
    "        final_snapshot = get_training_snapshot(generator, critic)\n",
    "        return [train_losses, *final_snapshot]\n",
    "    else:\n",
    "        return train_losses\n",
    "\n",
    "\n",
    "def get_training_snapshot(generator, critic, n_samples=5000):\n",
    "    generator.eval()\n",
    "    critic.eval()\n",
    "    xs = np.linspace(-1, 1, 1000)\n",
    "    samples = generator.sample(n_samples).detach().cpu().numpy()\n",
    "    critic_output = critic(torch.tensor(xs, device=device).float().unsqueeze(1)).detach().cpu().numpy()\n",
    "    return samples, xs, critic_output"
   ]
  },
  {
   "cell_type": "code",
   "execution_count": null,
   "metadata": {
    "id": "m8wZDEKoMt3m"
   },
   "outputs": [],
   "source": [
    "class MLP(nn.Module):\n",
    "    def __init__(self, input_size, n_hidden, hidden_size, output_size):\n",
    "        # YOUR CODE\n",
    "        pass\n",
    "    \n",
    "    def forward(self, x):\n",
    "        pass\n",
    "\n",
    "\n",
    "class MLPGenerator(nn.Module):\n",
    "    def __init__(self, latent_dim, n_hidden, hidden_size, data_dim, device='cuda'):\n",
    "        super().__init__()\n",
    "        # YOUR CODE\n",
    "\n",
    "    def forward(self, z):\n",
    "        pass\n",
    "\n",
    "    def sample(self, n):\n",
    "        pass\n",
    "\n",
    "class MLPDiscriminator(nn.Module):\n",
    "    def __init__(self, latent_dim, n_hidden, hidden_size, data_dim, device='cuda'):\n",
    "        super().__init__()\n",
    "        # YOUR CODE\n",
    "\n",
    "    def forward(self, x):\n",
    "        # if you choose to do not use sigmoid at the end of your discriminator\n",
    "        # adjust get_training_snapshot function\n",
    "        pass"
   ]
  },
  {
   "cell_type": "code",
   "execution_count": null,
   "metadata": {
    "id": "pfyB3DFgKfA5"
   },
   "outputs": [],
   "source": [
    "device = 'cuda:0'\n",
    "def q1_a(train_data):\n",
    "    \"\"\"\n",
    "    train_data: An (20000, 1) numpy array of floats in [-1, 1]\n",
    "\n",
    "    Returns\n",
    "    - a (# of training iterations,) numpy array of discriminator losses evaluated every minibatch\n",
    "\n",
    "    - a numpy array of size (5000,) of samples drawn from your model at the end of training\n",
    "    - a numpy array of size (1000,) linearly spaced from [-1, 1]; hint: np.linspace\n",
    "    - a numpy array of size (1000,), corresponding to the discriminator output (after sigmoid) \n",
    "        at each location in the previous array at the end of training\n",
    "    \"\"\"\n",
    "  \n",
    "    # create data loaders\n",
    "    train_loader = data.DataLoader(train_data, batch_size=64, shuffle=True)\n",
    "\n",
    "    # model\n",
    "    g = MLPGenerator(1, 3, 128, 1).to(device)\n",
    "    c = MLPDiscriminator(1, 3, 128, 1).to(device)\n",
    "\n",
    "    # loss functions\n",
    "    def g_loss(generator, critic, x):\n",
    "        # YOUR_CODE\n",
    "\n",
    "    def c_loss(generator, critic, x):\n",
    "        # YOUR CODE\n",
    "\n",
    "    train_losses, samples, xs, ys = train_epochs(g, c, g_loss, c_loss, train_loader, dict(epochs=25, lr=1e-4, n_critic=2, q1=True))\n",
    "\n",
    "    return train_losses['c_losses'], samples, xs, ys"
   ]
  },
  {
   "cell_type": "markdown",
   "metadata": {
    "id": "KLrFM7TQwZkC"
   },
   "source": [
    "### Results"
   ]
  },
  {
   "cell_type": "code",
   "execution_count": null,
   "metadata": {
    "id": "1BLGbJkasWjH"
   },
   "outputs": [],
   "source": [
    "def plot_gan_training(losses, title, fname):\n",
    "    plt.figure()\n",
    "    n_itr = len(losses)\n",
    "    xs = np.arange(n_itr)\n",
    "\n",
    "    plt.plot(xs, losses, label='loss')\n",
    "    plt.legend()\n",
    "    plt.title(title)\n",
    "    plt.xlabel('Training Iteration')\n",
    "    plt.ylabel('Loss')\n",
    "    # savefig(fname)\n",
    "\n",
    "\n",
    "def q1_gan_plot(data, samples, xs, ys, title, fname):\n",
    "    plt.figure()\n",
    "    plt.hist(samples, bins=50, density=True, alpha=0.7, label='fake')\n",
    "    plt.hist(data, bins=50, density=True, alpha=0.7, label='real')\n",
    "\n",
    "    plt.plot(xs, ys, label='discrim')\n",
    "    plt.legend()\n",
    "    plt.title(title)\n",
    "    # savefig(fname)\n",
    "\n",
    "\n",
    "def q1_save_results(part, fn):\n",
    "    data = q1_data()\n",
    "    losses, samples, xs, ys = fn(data)\n",
    "\n",
    "    # loss plot\n",
    "    plot_gan_training(losses, 'Q1{} Losses'.format(part), 'results/q1{}_losses.png'.format(part))\n",
    "\n",
    "    # samples\n",
    "    q1_gan_plot(data, samples, xs, ys, 'Q1{} Final'.format(part), 'results/q1{}_final.png'.format(part))"
   ]
  },
  {
   "cell_type": "code",
   "execution_count": null,
   "metadata": {
    "colab": {
     "base_uri": "https://localhost:8080/",
     "height": 907,
     "referenced_widgets": [
      "2d4d75a2fb1f42a19ef78a7f9bf1e278",
      "c2618bf5f4de4e78aab1087e84affc8a",
      "67b890ab5d8f44988fad179191bf084d",
      "50c844518f31459c877914fef45c9419",
      "57ff9edb8d984fb09cd49bd090901101",
      "e67a2feae091465b9bd5467f9f343978",
      "88dd86a43bf5414abb7ec2f502efe226",
      "11ef65c3d69f46d4a17875b273c94559",
      "a0d4e9207aa444e688bf2166ddb14f7a",
      "d136ecf855d841008c8ca81aa6fa407b",
      "16faa79a0c1b4b5e90df730ddbcac31a"
     ]
    },
    "id": "gRisn-yGwqoO",
    "outputId": "ead6270d-8139-4978-9935-582de4ffe9ef"
   },
   "outputs": [
    {
     "data": {
      "application/vnd.jupyter.widget-view+json": {
       "model_id": "2d4d75a2fb1f42a19ef78a7f9bf1e278",
       "version_major": 2,
       "version_minor": 0
      },
      "text/plain": [
       "Epoch:   0%|          | 0/25 [00:00<?, ?it/s]"
      ]
     },
     "metadata": {},
     "output_type": "display_data"
    },
    {
     "data": {
      "image/png": "[encoded data removed]",
      "text/plain": [
       "<Figure size 640x480 with 1 Axes>"
      ]
     },
     "metadata": {},
     "output_type": "display_data"
    },
    {
     "data": {
      "image/png": "[encoded data removed]",
      "text/plain": [
       "<Figure size 640x480 with 1 Axes>"
      ]
     },
     "metadata": {},
     "output_type": "display_data"
    }
   ],
   "source": [
    "q1_save_results('a', q1_a)"
   ]
  },
  {
   "cell_type": "markdown",
   "metadata": {
    "id": "2x4hfHRbZrDT"
   },
   "source": [
    "## Part 2 (MNIST)\n",
    "Here, we'll use the non-saturating formulation of the GAN objective. Now, we have two separate objectives:\n",
    "$$L^{(D)} = \\mathbb{E}_{x \\sim p_{data}} [\\log D(x)] + \\mathbb{E}_{z \\sim p(z)}[\\log (1-D(G(z)))] \\to max$$\n",
    "$$L^{(G)} = \\mathbb{E}_{z \\sim p(z)} \\log(D(G(z)) \\to max$$"
   ]
  },
  {
   "cell_type": "code",
   "execution_count": null,
   "metadata": {
    "id": "j9FK_6u6jnZo"
   },
   "outputs": [],
   "source": [
    "import os\n",
    "import numpy as np\n",
    "import torch\n",
    "import torch.nn as nn\n",
    "import torch.nn.functional as F\n",
    "import torchvision\n",
    "import torchvision.transforms as transforms\n",
    "from torch.utils.data import DataLoader, random_split\n",
    "from torchvision.datasets import MNIST"
   ]
  },
  {
   "cell_type": "code",
   "execution_count": null,
   "metadata": {
    "id": "67xNPjJLvl0Z"
   },
   "outputs": [],
   "source": [
    "mnist_t = MNIST(\"./\", train=False, download=True)"
   ]
  },
  {
   "cell_type": "code",
   "execution_count": null,
   "metadata": {
    "id": "E_haFdKRljQ6"
   },
   "outputs": [],
   "source": [
    "normalize = lambda x: (x.astype(np.float32) - 127.5) / 127.5\n",
    "restore = lambda x: (x * 127.5 + 127.5).astype(np.uint8)\n",
    "\n",
    "def get_dataset(is_train):\n",
    "    data = MNIST(\"./\", train=is_train, download=True)\n",
    "    data = [np.expand_dims(np.array(data[i][0]), 0) for i in range(len(data))]\n",
    "    data = np.stack(data)\n",
    "    return data\n",
    "\n",
    "mnist_train, mnist_test = get_dataset(is_train=True), get_dataset(is_train=False)\n",
    "\n"
   ]
  },
  {
   "cell_type": "code",
   "execution_count": null,
   "metadata": {
    "id": "hWHTIa02ne6g"
   },
   "outputs": [],
   "source": [
    "class Generator(nn.Module):\n",
    "    def __init__(self, latent_dim, img_shape):\n",
    "        super().__init__()\n",
    "        self.img_shape = img_shape\n",
    "        # YOUR_CODE\n",
    "\n",
    "    def forward(self, z):\n",
    "        pass\n",
    "\n",
    "class Discriminator(nn.Module):\n",
    "    def __init__(self, img_shape):\n",
    "        super().__init__()\n",
    "        # YOUR_CODE\n",
    "\n",
    "    def forward(self, img):\n",
    "        pass"
   ]
  },
  {
   "cell_type": "code",
   "execution_count": null,
   "metadata": {
    "colab": {
     "base_uri": "https://localhost:8080/",
     "height": 17,
     "referenced_widgets": [
      "4b6a0990d5bc4cd3bc785eb1e6b0e3b1",
      "7a5a20abfa3b41d3a88b39889195324e",
      "64c86ba5c9984bcbb4ec6498e83efe09",
      "8ee8e758a7094bd8a295980d192dd47b",
      "67d3eda5f41f4d5492025e733eba658a",
      "8446e5fd6d5d4202ad0f774e0f7a1757",
      "da5aeaccc63849e796ed436182df7406",
      "e8d2329b40434134baa59386679a8f6a",
      "a5c26f2ccb284e14a6c043a0d155901a",
      "6d84b291016d4266984be68b12eef2c8",
      "37bbe21aa3694e4c82eeb51eeea3c222"
     ]
    },
    "id": "O1HhfixYjGfM",
    "outputId": "6abf8468-10ac-4650-ec64-1f41f71eb0d7"
   },
   "outputs": [
    {
     "data": {
      "application/vnd.jupyter.widget-view+json": {
       "model_id": "4b6a0990d5bc4cd3bc785eb1e6b0e3b1",
       "version_major": 2,
       "version_minor": 0
      },
      "text/plain": [
       "Epoch:   0%|          | 0/20 [00:00<?, ?it/s]"
      ]
     },
     "metadata": {},
     "output_type": "display_data"
    }
   ],
   "source": [
    "device = 'cuda:0'\n",
    "\n",
    "from torchvision.utils import make_grid\n",
    "import matplotlib.pyplot as plt\n",
    "%matplotlib inline\n",
    "\n",
    "def train_mnist(batch_size=64, latent_dim=128, lr=3e-4):\n",
    "    train_loader = data.DataLoader(normalize(mnist_train), batch_size=batch_size, shuffle=True, num_workers=4)\n",
    "\n",
    "    data_shape = (1, 28, 28)\n",
    "\n",
    "    g = Generator(latent_dim=latent_dim, img_shape=data_shape).to(device)\n",
    "    c = Discriminator(img_shape=data_shape).to(device)\n",
    "\n",
    "    def g_loss(generator, critic, x):\n",
    "        # YOUR_CODE\n",
    "\n",
    "    def c_loss(generator, critic, real):\n",
    "        # YOUR_CODE\n",
    "\n",
    "    @torch.no_grad()\n",
    "    def sample(n_samples):\n",
    "        # YOUR_CODE\n",
    "\n",
    "    train_args = {\n",
    "        'epochs': 20,\n",
    "        'n_critic': 1,\n",
    "        'lr': lr,\n",
    "        'optim_g': torch.optim.Adam(g.parameters(), lr=lr, betas=(0.5, 0.999)),\n",
    "        'optim_c': torch.optim.Adam(c.parameters(), lr=lr, betas=(0.5, 0.999))\n",
    "    }\n",
    "    losses = train_epochs(g, c, g_loss, c_loss, train_loader, train_args)\n",
    "    samples = sample(100)\n",
    "    return losses, samples\n",
    "\n",
    "losses, samples = train_mnist()\n"
   ]
  },
  {
   "cell_type": "code",
   "execution_count": null,
   "metadata": {
    "id": "HJbw-Vjeh86s"
   },
   "outputs": [],
   "source": [
    "def show_samples(samples, nrow=10, title='Samples'):\n",
    "    samples = (torch.FloatTensor(samples) / 255)\n",
    "    grid_img = make_grid(samples, nrow=nrow)\n",
    "    plt.figure()\n",
    "    plt.title(title)\n",
    "    plt.imshow(grid_img.permute(1, 2, 0))\n",
    "    plt.axis('off')\n",
    "    plt.show()\n",
    "\n",
    "show_samples(samples)"
   ]
  },
  {
   "cell_type": "markdown",
   "metadata": {
    "id": "ZZom5NfNUhrF"
   },
   "source": [
    "## Part 3 (pixtopix Image-To-Image GAN)"
   ]
  },
  {
   "cell_type": "code",
   "execution_count": null,
   "metadata": {
    "colab": {
     "base_uri": "https://localhost:8080/"
    },
    "id": "fgvk2b_72BVP",
    "outputId": "4b460b48-3428-49a3-be6f-b7b559e2f151"
   },
   "outputs": [
    {
     "name": "stdout",
     "output_type": "stream",
     "text": [
      "WARNING: timestamping does nothing in combination with -O. See the manual\n",
      "for details.\n",
      "\n",
      "--2023-04-19 07:29:17--  http://efrosgans.eecs.berkeley.edu/pix2pix/datasets/facades.tar.gz\n",
      "Resolving efrosgans.eecs.berkeley.edu (efrosgans.eecs.berkeley.edu)... 128.32.244.190\n",
      "Connecting to efrosgans.eecs.berkeley.edu (efrosgans.eecs.berkeley.edu)|128.32.244.190|:80... connected.\n",
      "HTTP request sent, awaiting response... 200 OK\n",
      "Length: 30168306 (29M) [application/x-gzip]\n",
      "Saving to: ‘./facades.tar.gz’\n",
      "\n",
      "./facades.tar.gz    100%[===================>]  28.77M  2.47MB/s    in 14s     \n",
      "\n",
      "2023-04-19 07:29:31 (2.04 MB/s) - ‘./facades.tar.gz’ saved [30168306/30168306]\n",
      "\n"
     ]
    }
   ],
   "source": [
    "!wget -N http://efrosgans.eecs.berkeley.edu/pix2pix/datasets/facades.tar.gz -O ./facades.tar.gz\n",
    "!mkdir -p facades\n",
    "!tar -zxf ./facades.tar.gz -C ./\n",
    "!rm ./facades.tar.gz"
   ]
  },
  {
   "cell_type": "code",
   "execution_count": null,
   "metadata": {
    "id": "_BGHWQXLI8H6"
   },
   "outputs": [],
   "source": [
    "import os\n",
    "import numpy as np\n",
    "from PIL import Image\n",
    "import functools\n",
    "\n",
    "train_path, test_path = \"./facades/train\", \"./facades/test\"\n",
    "\n",
    "def load_dataset(path):\n",
    "    data = []\n",
    "    for name in os.listdir(path):\n",
    "        sample = Image.open(os.path.join(path, name)).convert('RGB')\n",
    "        w, h = sample.size\n",
    "        from_img, to_img = sample.crop((w//2, 0, w, h)), sample.crop((0, 0, w//2, h))\n",
    "        data.append((from_img, to_img))\n",
    "    return data\n",
    "\n",
    "train_data, test_data = load_dataset(train_path), load_dataset(test_path)\n",
    "\n",
    "def normalize(data):\n",
    "    return (data.astype(np.float32) - 127.5) / 127.5\n",
    "\n",
    "def restore(data):\n",
    "    return (data * 127.5 + 127.5).astype(np.uint8)\n",
    "\n",
    "def prepare_img(img, tgt_res):\n",
    "    w, h = img.size\n",
    "    if (w, h) != tgt_res:\n",
    "        img = img.resize(tgt_res)\n",
    "    img = np.array(img).transpose(2, 0, 1)\n",
    "    return normalize(img)\n",
    "\n",
    "def prepare_dataset(data, tgt_size=256):\n",
    "    tgt_res = (tgt_size, tgt_size)\n",
    "    prepared_data = []\n",
    "    for from_img, to_img in data:\n",
    "        prepared_data.append((prepare_img(from_img, tgt_res), prepare_img(to_img, tgt_res)))\n",
    "    return prepared_data"
   ]
  },
  {
   "cell_type": "markdown",
   "metadata": {
    "id": "Mexpww_hmm20"
   },
   "source": [
    "Paper link: https://arxiv.org/pdf/1611.07004.pdf\n",
    "\n",
    "Objectives:\n",
    "\n",
    "$$\n",
    "L_{cGAN}(G,D) = \\mathbb{E}_{y}[logD(y)] + \\mathbb{E}_{x,z}[log(1 - D(G(x,z)))] \\to max\n",
    "$$\n",
    "$$\n",
    "L_{L_1}(G) = \\mathbb{E}_{x,y,z}[\\Vert y - G(x,z) \\Vert_1] \\to min\n",
    "$$\n",
    "\n",
    "$$\n",
    "G^* = arg min_G max_D L_{cGAN}(G,D) + \\lambda L_{L_1}(G)\n",
    "$$"
   ]
  },
  {
   "cell_type": "code",
   "execution_count": null,
   "metadata": {
    "id": "dUE1ntH-iG5G"
   },
   "outputs": [],
   "source": [
    "class UnetGenerator(nn.Module):\n",
    "    def __init__(self, input_nc, output_nc, norm_type=nn.BatchNorm2d):\n",
    "        # YOUR_CODE\n",
    "\n",
    "    def forward(self):\n",
    "        pass\n",
    "\n",
    "class ConvDiscriminator(nn.Module):\n",
    "    def __init__(self, input_nc, norm_layer=nn.BatchNorm2d):\n",
    "        # YOUR_CODE\n",
    "\n",
    "    def forward(self):\n",
    "        pass\n"
   ]
  },
  {
   "cell_type": "code",
   "execution_count": null,
   "metadata": {
    "id": "1B5cODyiigC8"
   },
   "outputs": [],
   "source": [
    "device='cuda:0'\n",
    "\n",
    "def train_pixtopix(batch_size=64, input_res=256, lr=3e-4, penalty_lambda=100.0):\n",
    "    prepared_train = prepare_dataset(train_data, tgt_size=input_res)\n",
    "    prepared_test = prepare_dataset(test_data, tgt_size=input_res)\n",
    "\n",
    "    train_loader = data.DataLoader(prepared_train, batch_size=batch_size, shuffle=True, num_workers=4)\n",
    "    data_shape = (1, 28, 28)\n",
    "\n",
    "    # define models here\n",
    "\n",
    "    def tensor_preparer(batch):\n",
    "        return batch[0].to(device), batch[1].to(device)\n",
    "\n",
    "    def g_loss(generator, critic, x):\n",
    "        # YOUR_CODE\n",
    "\n",
    "    def c_loss(generator, critic, x):\n",
    "        # YOUR_CODE\n",
    "\n",
    "    @torch.no_grad()\n",
    "    def sample(from_images):\n",
    "        # YOUR_CODE\n",
    "\n",
    "    train_args = {\n",
    "        'epochs': 20,\n",
    "        'n_critic': 1,\n",
    "        'lr': lr,\n",
    "        'optim_g': torch.optim.Adam(g.parameters(), lr=lr, betas=(0.5, 0.999)),\n",
    "        'optim_c': torch.optim.Adam(c.parameters(), lr=lr, betas=(0.5, 0.999)),\n",
    "        'preparer_fn': tensor_preparer\n",
    "    }\n",
    "    losses = train_epochs(g, c, g_loss, c_loss, train_loader, train_args)\n",
    "    \n",
    "    # make_samples\n",
    "    # YOUR_CODE\n",
    "    \n",
    "    return losses, samples\n",
    "\n",
    "losses, samples = train_pixtopix()"
   ]
  }
 ],
 "metadata": {
  "accelerator": "GPU",
  "colab": {
   "provenance": []
  },
  "gpuClass": "standard",
  "kernelspec": {
   "display_name": "Python 3 (ipykernel)",
   "language": "python",
   "name": "python3"
  },
  "language_info": {
   "codemirror_mode": {
    "name": "ipython",
    "version": 3
   },
   "file_extension": ".py",
   "mimetype": "text/x-python",
   "name": "python",
   "nbconvert_exporter": "python",
   "pygments_lexer": "ipython3",
   "version": "3.11.8"
  },
  "widgets": {
   "application/vnd.jupyter.widget-state+json": {
    "11ef65c3d69f46d4a17875b273c94559": {
     "model_module": "@jupyter-widgets/base",
     "model_module_version": "1.2.0",
     "model_name": "LayoutModel",
     "state": {
      "_model_module": "@jupyter-widgets/base",
      "_model_module_version": "1.2.0",
      "_model_name": "LayoutModel",
      "_view_count": null,
      "_view_module": "@jupyter-widgets/base",
      "_view_module_version": "1.2.0",
      "_view_name": "LayoutView",
      "align_content": null,
      "align_items": null,
      "align_self": null,
      "border": null,
      "bottom": null,
      "display": null,
      "flex": null,
      "flex_flow": null,
      "grid_area": null,
      "grid_auto_columns": null,
      "grid_auto_flow": null,
      "grid_auto_rows": null,
      "grid_column": null,
      "grid_gap": null,
      "grid_row": null,
      "grid_template_areas": null,
      "grid_template_columns": null,
      "grid_template_rows": null,
      "height": null,
      "justify_content": null,
      "justify_items": null,
      "left": null,
      "margin": null,
      "max_height": null,
      "max_width": null,
      "min_height": null,
      "min_width": null,
      "object_fit": null,
      "object_position": null,
      "order": null,
      "overflow": null,
      "overflow_x": null,
      "overflow_y": null,
      "padding": null,
      "right": null,
      "top": null,
      "visibility": null,
      "width": null
     }
    },
    "16faa79a0c1b4b5e90df730ddbcac31a": {
     "model_module": "@jupyter-widgets/controls",
     "model_module_version": "1.5.0",
     "model_name": "DescriptionStyleModel",
     "state": {
      "_model_module": "@jupyter-widgets/controls",
      "_model_module_version": "1.5.0",
      "_model_name": "DescriptionStyleModel",
      "_view_count": null,
      "_view_module": "@jupyter-widgets/base",
      "_view_module_version": "1.2.0",
      "_view_name": "StyleView",
      "description_width": ""
     }
    },
    "2d4d75a2fb1f42a19ef78a7f9bf1e278": {
     "model_module": "@jupyter-widgets/controls",
     "model_module_version": "1.5.0",
     "model_name": "HBoxModel",
     "state": {
      "_dom_classes": [],
      "_model_module": "@jupyter-widgets/controls",
      "_model_module_version": "1.5.0",
      "_model_name": "HBoxModel",
      "_view_count": null,
      "_view_module": "@jupyter-widgets/controls",
      "_view_module_version": "1.5.0",
      "_view_name": "HBoxView",
      "box_style": "",
      "children": [
       "IPY_MODEL_c2618bf5f4de4e78aab1087e84affc8a",
       "IPY_MODEL_67b890ab5d8f44988fad179191bf084d",
       "IPY_MODEL_50c844518f31459c877914fef45c9419"
      ],
      "layout": "IPY_MODEL_57ff9edb8d984fb09cd49bd090901101"
     }
    },
    "37bbe21aa3694e4c82eeb51eeea3c222": {
     "model_module": "@jupyter-widgets/controls",
     "model_module_version": "1.5.0",
     "model_name": "DescriptionStyleModel",
     "state": {
      "_model_module": "@jupyter-widgets/controls",
      "_model_module_version": "1.5.0",
      "_model_name": "DescriptionStyleModel",
      "_view_count": null,
      "_view_module": "@jupyter-widgets/base",
      "_view_module_version": "1.2.0",
      "_view_name": "StyleView",
      "description_width": ""
     }
    },
    "4b6a0990d5bc4cd3bc785eb1e6b0e3b1": {
     "model_module": "@jupyter-widgets/controls",
     "model_module_version": "1.5.0",
     "model_name": "HBoxModel",
     "state": {
      "_dom_classes": [],
      "_model_module": "@jupyter-widgets/controls",
      "_model_module_version": "1.5.0",
      "_model_name": "HBoxModel",
      "_view_count": null,
      "_view_module": "@jupyter-widgets/controls",
      "_view_module_version": "1.5.0",
      "_view_name": "HBoxView",
      "box_style": "",
      "children": [
       "IPY_MODEL_7a5a20abfa3b41d3a88b39889195324e",
       "IPY_MODEL_64c86ba5c9984bcbb4ec6498e83efe09",
       "IPY_MODEL_8ee8e758a7094bd8a295980d192dd47b"
      ],
      "layout": "IPY_MODEL_67d3eda5f41f4d5492025e733eba658a"
     }
    },
    "50c844518f31459c877914fef45c9419": {
     "model_module": "@jupyter-widgets/controls",
     "model_module_version": "1.5.0",
     "model_name": "HTMLModel",
     "state": {
      "_dom_classes": [],
      "_model_module": "@jupyter-widgets/controls",
      "_model_module_version": "1.5.0",
      "_model_name": "HTMLModel",
      "_view_count": null,
      "_view_module": "@jupyter-widgets/controls",
      "_view_module_version": "1.5.0",
      "_view_name": "HTMLView",
      "description": "",
      "description_tooltip": null,
      "layout": "IPY_MODEL_d136ecf855d841008c8ca81aa6fa407b",
      "placeholder": "​",
      "style": "IPY_MODEL_16faa79a0c1b4b5e90df730ddbcac31a",
      "value": " 25/25 [00:36&lt;00:00,  1.42s/it]"
     }
    },
    "57ff9edb8d984fb09cd49bd090901101": {
     "model_module": "@jupyter-widgets/base",
     "model_module_version": "1.2.0",
     "model_name": "LayoutModel",
     "state": {
      "_model_module": "@jupyter-widgets/base",
      "_model_module_version": "1.2.0",
      "_model_name": "LayoutModel",
      "_view_count": null,
      "_view_module": "@jupyter-widgets/base",
      "_view_module_version": "1.2.0",
      "_view_name": "LayoutView",
      "align_content": null,
      "align_items": null,
      "align_self": null,
      "border": null,
      "bottom": null,
      "display": null,
      "flex": null,
      "flex_flow": null,
      "grid_area": null,
      "grid_auto_columns": null,
      "grid_auto_flow": null,
      "grid_auto_rows": null,
      "grid_column": null,
      "grid_gap": null,
      "grid_row": null,
      "grid_template_areas": null,
      "grid_template_columns": null,
      "grid_template_rows": null,
      "height": null,
      "justify_content": null,
      "justify_items": null,
      "left": null,
      "margin": null,
      "max_height": null,
      "max_width": null,
      "min_height": null,
      "min_width": null,
      "object_fit": null,
      "object_position": null,
      "order": null,
      "overflow": null,
      "overflow_x": null,
      "overflow_y": null,
      "padding": null,
      "right": null,
      "top": null,
      "visibility": "hidden",
      "width": null
     }
    },
    "64c86ba5c9984bcbb4ec6498e83efe09": {
     "model_module": "@jupyter-widgets/controls",
     "model_module_version": "1.5.0",
     "model_name": "FloatProgressModel",
     "state": {
      "_dom_classes": [],
      "_model_module": "@jupyter-widgets/controls",
      "_model_module_version": "1.5.0",
      "_model_name": "FloatProgressModel",
      "_view_count": null,
      "_view_module": "@jupyter-widgets/controls",
      "_view_module_version": "1.5.0",
      "_view_name": "ProgressView",
      "bar_style": "",
      "description": "",
      "description_tooltip": null,
      "layout": "IPY_MODEL_e8d2329b40434134baa59386679a8f6a",
      "max": 20,
      "min": 0,
      "orientation": "horizontal",
      "style": "IPY_MODEL_a5c26f2ccb284e14a6c043a0d155901a",
      "value": 20
     }
    },
    "67b890ab5d8f44988fad179191bf084d": {
     "model_module": "@jupyter-widgets/controls",
     "model_module_version": "1.5.0",
     "model_name": "FloatProgressModel",
     "state": {
      "_dom_classes": [],
      "_model_module": "@jupyter-widgets/controls",
      "_model_module_version": "1.5.0",
      "_model_name": "FloatProgressModel",
      "_view_count": null,
      "_view_module": "@jupyter-widgets/controls",
      "_view_module_version": "1.5.0",
      "_view_name": "ProgressView",
      "bar_style": "",
      "description": "",
      "description_tooltip": null,
      "layout": "IPY_MODEL_11ef65c3d69f46d4a17875b273c94559",
      "max": 25,
      "min": 0,
      "orientation": "horizontal",
      "style": "IPY_MODEL_a0d4e9207aa444e688bf2166ddb14f7a",
      "value": 25
     }
    },
    "67d3eda5f41f4d5492025e733eba658a": {
     "model_module": "@jupyter-widgets/base",
     "model_module_version": "1.2.0",
     "model_name": "LayoutModel",
     "state": {
      "_model_module": "@jupyter-widgets/base",
      "_model_module_version": "1.2.0",
      "_model_name": "LayoutModel",
      "_view_count": null,
      "_view_module": "@jupyter-widgets/base",
      "_view_module_version": "1.2.0",
      "_view_name": "LayoutView",
      "align_content": null,
      "align_items": null,
      "align_self": null,
      "border": null,
      "bottom": null,
      "display": null,
      "flex": null,
      "flex_flow": null,
      "grid_area": null,
      "grid_auto_columns": null,
      "grid_auto_flow": null,
      "grid_auto_rows": null,
      "grid_column": null,
      "grid_gap": null,
      "grid_row": null,
      "grid_template_areas": null,
      "grid_template_columns": null,
      "grid_template_rows": null,
      "height": null,
      "justify_content": null,
      "justify_items": null,
      "left": null,
      "margin": null,
      "max_height": null,
      "max_width": null,
      "min_height": null,
      "min_width": null,
      "object_fit": null,
      "object_position": null,
      "order": null,
      "overflow": null,
      "overflow_x": null,
      "overflow_y": null,
      "padding": null,
      "right": null,
      "top": null,
      "visibility": "hidden",
      "width": null
     }
    },
    "6d84b291016d4266984be68b12eef2c8": {
     "model_module": "@jupyter-widgets/base",
     "model_module_version": "1.2.0",
     "model_name": "LayoutModel",
     "state": {
      "_model_module": "@jupyter-widgets/base",
      "_model_module_version": "1.2.0",
      "_model_name": "LayoutModel",
      "_view_count": null,
      "_view_module": "@jupyter-widgets/base",
      "_view_module_version": "1.2.0",
      "_view_name": "LayoutView",
      "align_content": null,
      "align_items": null,
      "align_self": null,
      "border": null,
      "bottom": null,
      "display": null,
      "flex": null,
      "flex_flow": null,
      "grid_area": null,
      "grid_auto_columns": null,
      "grid_auto_flow": null,
      "grid_auto_rows": null,
      "grid_column": null,
      "grid_gap": null,
      "grid_row": null,
      "grid_template_areas": null,
      "grid_template_columns": null,
      "grid_template_rows": null,
      "height": null,
      "justify_content": null,
      "justify_items": null,
      "left": null,
      "margin": null,
      "max_height": null,
      "max_width": null,
      "min_height": null,
      "min_width": null,
      "object_fit": null,
      "object_position": null,
      "order": null,
      "overflow": null,
      "overflow_x": null,
      "overflow_y": null,
      "padding": null,
      "right": null,
      "top": null,
      "visibility": null,
      "width": null
     }
    },
    "7a5a20abfa3b41d3a88b39889195324e": {
     "model_module": "@jupyter-widgets/controls",
     "model_module_version": "1.5.0",
     "model_name": "HTMLModel",
     "state": {
      "_dom_classes": [],
      "_model_module": "@jupyter-widgets/controls",
      "_model_module_version": "1.5.0",
      "_model_name": "HTMLModel",
      "_view_count": null,
      "_view_module": "@jupyter-widgets/controls",
      "_view_module_version": "1.5.0",
      "_view_name": "HTMLView",
      "description": "",
      "description_tooltip": null,
      "layout": "IPY_MODEL_8446e5fd6d5d4202ad0f774e0f7a1757",
      "placeholder": "​",
      "style": "IPY_MODEL_da5aeaccc63849e796ed436182df7406",
      "value": "Epoch: 100%"
     }
    },
    "8446e5fd6d5d4202ad0f774e0f7a1757": {
     "model_module": "@jupyter-widgets/base",
     "model_module_version": "1.2.0",
     "model_name": "LayoutModel",
     "state": {
      "_model_module": "@jupyter-widgets/base",
      "_model_module_version": "1.2.0",
      "_model_name": "LayoutModel",
      "_view_count": null,
      "_view_module": "@jupyter-widgets/base",
      "_view_module_version": "1.2.0",
      "_view_name": "LayoutView",
      "align_content": null,
      "align_items": null,
      "align_self": null,
      "border": null,
      "bottom": null,
      "display": null,
      "flex": null,
      "flex_flow": null,
      "grid_area": null,
      "grid_auto_columns": null,
      "grid_auto_flow": null,
      "grid_auto_rows": null,
      "grid_column": null,
      "grid_gap": null,
      "grid_row": null,
      "grid_template_areas": null,
      "grid_template_columns": null,
      "grid_template_rows": null,
      "height": null,
      "justify_content": null,
      "justify_items": null,
      "left": null,
      "margin": null,
      "max_height": null,
      "max_width": null,
      "min_height": null,
      "min_width": null,
      "object_fit": null,
      "object_position": null,
      "order": null,
      "overflow": null,
      "overflow_x": null,
      "overflow_y": null,
      "padding": null,
      "right": null,
      "top": null,
      "visibility": null,
      "width": null
     }
    },
    "88dd86a43bf5414abb7ec2f502efe226": {
     "model_module": "@jupyter-widgets/controls",
     "model_module_version": "1.5.0",
     "model_name": "DescriptionStyleModel",
     "state": {
      "_model_module": "@jupyter-widgets/controls",
      "_model_module_version": "1.5.0",
      "_model_name": "DescriptionStyleModel",
      "_view_count": null,
      "_view_module": "@jupyter-widgets/base",
      "_view_module_version": "1.2.0",
      "_view_name": "StyleView",
      "description_width": ""
     }
    },
    "8ee8e758a7094bd8a295980d192dd47b": {
     "model_module": "@jupyter-widgets/controls",
     "model_module_version": "1.5.0",
     "model_name": "HTMLModel",
     "state": {
      "_dom_classes": [],
      "_model_module": "@jupyter-widgets/controls",
      "_model_module_version": "1.5.0",
      "_model_name": "HTMLModel",
      "_view_count": null,
      "_view_module": "@jupyter-widgets/controls",
      "_view_module_version": "1.5.0",
      "_view_name": "HTMLView",
      "description": "",
      "description_tooltip": null,
      "layout": "IPY_MODEL_6d84b291016d4266984be68b12eef2c8",
      "placeholder": "​",
      "style": "IPY_MODEL_37bbe21aa3694e4c82eeb51eeea3c222",
      "value": " 20/20 [02:38&lt;00:00,  7.81s/it]"
     }
    },
    "a0d4e9207aa444e688bf2166ddb14f7a": {
     "model_module": "@jupyter-widgets/controls",
     "model_module_version": "1.5.0",
     "model_name": "ProgressStyleModel",
     "state": {
      "_model_module": "@jupyter-widgets/controls",
      "_model_module_version": "1.5.0",
      "_model_name": "ProgressStyleModel",
      "_view_count": null,
      "_view_module": "@jupyter-widgets/base",
      "_view_module_version": "1.2.0",
      "_view_name": "StyleView",
      "bar_color": null,
      "description_width": ""
     }
    },
    "a5c26f2ccb284e14a6c043a0d155901a": {
     "model_module": "@jupyter-widgets/controls",
     "model_module_version": "1.5.0",
     "model_name": "ProgressStyleModel",
     "state": {
      "_model_module": "@jupyter-widgets/controls",
      "_model_module_version": "1.5.0",
      "_model_name": "ProgressStyleModel",
      "_view_count": null,
      "_view_module": "@jupyter-widgets/base",
      "_view_module_version": "1.2.0",
      "_view_name": "StyleView",
      "bar_color": null,
      "description_width": ""
     }
    },
    "c2618bf5f4de4e78aab1087e84affc8a": {
     "model_module": "@jupyter-widgets/controls",
     "model_module_version": "1.5.0",
     "model_name": "HTMLModel",
     "state": {
      "_dom_classes": [],
      "_model_module": "@jupyter-widgets/controls",
      "_model_module_version": "1.5.0",
      "_model_name": "HTMLModel",
      "_view_count": null,
      "_view_module": "@jupyter-widgets/controls",
      "_view_module_version": "1.5.0",
      "_view_name": "HTMLView",
      "description": "",
      "description_tooltip": null,
      "layout": "IPY_MODEL_e67a2feae091465b9bd5467f9f343978",
      "placeholder": "​",
      "style": "IPY_MODEL_88dd86a43bf5414abb7ec2f502efe226",
      "value": "Epoch: 100%"
     }
    },
    "d136ecf855d841008c8ca81aa6fa407b": {
     "model_module": "@jupyter-widgets/base",
     "model_module_version": "1.2.0",
     "model_name": "LayoutModel",
     "state": {
      "_model_module": "@jupyter-widgets/base",
      "_model_module_version": "1.2.0",
      "_model_name": "LayoutModel",
      "_view_count": null,
      "_view_module": "@jupyter-widgets/base",
      "_view_module_version": "1.2.0",
      "_view_name": "LayoutView",
      "align_content": null,
      "align_items": null,
      "align_self": null,
      "border": null,
      "bottom": null,
      "display": null,
      "flex": null,
      "flex_flow": null,
      "grid_area": null,
      "grid_auto_columns": null,
      "grid_auto_flow": null,
      "grid_auto_rows": null,
      "grid_column": null,
      "grid_gap": null,
      "grid_row": null,
      "grid_template_areas": null,
      "grid_template_columns": null,
      "grid_template_rows": null,
      "height": null,
      "justify_content": null,
      "justify_items": null,
      "left": null,
      "margin": null,
      "max_height": null,
      "max_width": null,
      "min_height": null,
      "min_width": null,
      "object_fit": null,
      "object_position": null,
      "order": null,
      "overflow": null,
      "overflow_x": null,
      "overflow_y": null,
      "padding": null,
      "right": null,
      "top": null,
      "visibility": null,
      "width": null
     }
    },
    "da5aeaccc63849e796ed436182df7406": {
     "model_module": "@jupyter-widgets/controls",
     "model_module_version": "1.5.0",
     "model_name": "DescriptionStyleModel",
     "state": {
      "_model_module": "@jupyter-widgets/controls",
      "_model_module_version": "1.5.0",
      "_model_name": "DescriptionStyleModel",
      "_view_count": null,
      "_view_module": "@jupyter-widgets/base",
      "_view_module_version": "1.2.0",
      "_view_name": "StyleView",
      "description_width": ""
     }
    },
    "e67a2feae091465b9bd5467f9f343978": {
     "model_module": "@jupyter-widgets/base",
     "model_module_version": "1.2.0",
     "model_name": "LayoutModel",
     "state": {
      "_model_module": "@jupyter-widgets/base",
      "_model_module_version": "1.2.0",
      "_model_name": "LayoutModel",
      "_view_count": null,
      "_view_module": "@jupyter-widgets/base",
      "_view_module_version": "1.2.0",
      "_view_name": "LayoutView",
      "align_content": null,
      "align_items": null,
      "align_self": null,
      "border": null,
      "bottom": null,
      "display": null,
      "flex": null,
      "flex_flow": null,
      "grid_area": null,
      "grid_auto_columns": null,
      "grid_auto_flow": null,
      "grid_auto_rows": null,
      "grid_column": null,
      "grid_gap": null,
      "grid_row": null,
      "grid_template_areas": null,
      "grid_template_columns": null,
      "grid_template_rows": null,
      "height": null,
      "justify_content": null,
      "justify_items": null,
      "left": null,
      "margin": null,
      "max_height": null,
      "max_width": null,
      "min_height": null,
      "min_width": null,
      "object_fit": null,
      "object_position": null,
      "order": null,
      "overflow": null,
      "overflow_x": null,
      "overflow_y": null,
      "padding": null,
      "right": null,
      "top": null,
      "visibility": null,
      "width": null
     }
    },
    "e8d2329b40434134baa59386679a8f6a": {
     "model_module": "@jupyter-widgets/base",
     "model_module_version": "1.2.0",
     "model_name": "LayoutModel",
     "state": {
      "_model_module": "@jupyter-widgets/base",
      "_model_module_version": "1.2.0",
      "_model_name": "LayoutModel",
      "_view_count": null,
      "_view_module": "@jupyter-widgets/base",
      "_view_module_version": "1.2.0",
      "_view_name": "LayoutView",
      "align_content": null,
      "align_items": null,
      "align_self": null,
      "border": null,
      "bottom": null,
      "display": null,
      "flex": null,
      "flex_flow": null,
      "grid_area": null,
      "grid_auto_columns": null,
      "grid_auto_flow": null,
      "grid_auto_rows": null,
      "grid_column": null,
      "grid_gap": null,
      "grid_row": null,
      "grid_template_areas": null,
      "grid_template_columns": null,
      "grid_template_rows": null,
      "height": null,
      "justify_content": null,
      "justify_items": null,
      "left": null,
      "margin": null,
      "max_height": null,
      "max_width": null,
      "min_height": null,
      "min_width": null,
      "object_fit": null,
      "object_position": null,
      "order": null,
      "overflow": null,
      "overflow_x": null,
      "overflow_y": null,
      "padding": null,
      "right": null,
      "top": null,
      "visibility": null,
      "width": null
     }
    }
   }
  }
 },
 "nbformat": 4,
 "nbformat_minor": 4
}
